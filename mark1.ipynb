{
 "cells": [
  {
   "cell_type": "code",
<<<<<<< Updated upstream
   "execution_count": 11,
=======
   "execution_count": 100,
>>>>>>> Stashed changes
   "metadata": {},
   "outputs": [],
   "source": [
    "import pandas as pd\n",
    "import numpy as np\n",
    "from sklearn.datasets import load_breast_cancer\n",
    "from sklearn.preprocessing import StandardScaler\n",
    "from sklearn.decomposition import PCA\n",
    "from sklearn.ensemble import GradientBoostingClassifier, IsolationForest\n",
    "from sklearn.model_selection import cross_val_score\n",
    "from skopt import gp_minimize\n",
    "from skopt.space import Real, Integer\n",
    "from skopt.utils import use_named_args\n",
    "import hdbscan\n",
    "from sklearn.naive_bayes import GaussianNB"
   ]
  },
  {
   "cell_type": "code",
   "execution_count": 12,
   "metadata": {},
   "outputs": [
    {
     "data": {
      "text/html": [
       "<div>\n",
       "<style scoped>\n",
       "    .dataframe tbody tr th:only-of-type {\n",
       "        vertical-align: middle;\n",
       "    }\n",
       "\n",
       "    .dataframe tbody tr th {\n",
       "        vertical-align: top;\n",
       "    }\n",
       "\n",
       "    .dataframe thead th {\n",
       "        text-align: right;\n",
       "    }\n",
       "</style>\n",
       "<table border=\"1\" class=\"dataframe\">\n",
       "  <thead>\n",
       "    <tr style=\"text-align: right;\">\n",
       "      <th></th>\n",
       "      <th>ID</th>\n",
       "      <th>n0</th>\n",
       "      <th>n1</th>\n",
       "      <th>n2</th>\n",
       "      <th>n3</th>\n",
       "      <th>n4</th>\n",
       "      <th>n5</th>\n",
       "      <th>n6</th>\n",
       "      <th>n7</th>\n",
       "      <th>n8</th>\n",
       "      <th>...</th>\n",
       "      <th>n4087</th>\n",
       "      <th>n4088</th>\n",
       "      <th>n4089</th>\n",
       "      <th>n4090</th>\n",
       "      <th>n4091</th>\n",
       "      <th>n4092</th>\n",
       "      <th>n4093</th>\n",
       "      <th>n4094</th>\n",
       "      <th>n4095</th>\n",
       "      <th>category</th>\n",
       "    </tr>\n",
       "  </thead>\n",
       "  <tbody>\n",
       "    <tr>\n",
       "      <th>0</th>\n",
       "      <td>0</td>\n",
       "      <td>0.0</td>\n",
       "      <td>0.000000</td>\n",
       "      <td>1.272801</td>\n",
       "      <td>0.290501</td>\n",
       "      <td>0.581446</td>\n",
       "      <td>0.000000</td>\n",
       "      <td>0.000000</td>\n",
       "      <td>0</td>\n",
       "      <td>0.000000</td>\n",
       "      <td>...</td>\n",
       "      <td>1.645888</td>\n",
       "      <td>0.869640</td>\n",
       "      <td>0.302432</td>\n",
       "      <td>0.953719</td>\n",
       "      <td>0.022545</td>\n",
       "      <td>0.498048</td>\n",
       "      <td>0.0</td>\n",
       "      <td>0.034988</td>\n",
       "      <td>0.692382</td>\n",
       "      <td>Orange_Ripe</td>\n",
       "    </tr>\n",
       "    <tr>\n",
       "      <th>1</th>\n",
       "      <td>1</td>\n",
       "      <td>0.0</td>\n",
       "      <td>0.000000</td>\n",
       "      <td>1.542096</td>\n",
       "      <td>0.000000</td>\n",
       "      <td>0.896557</td>\n",
       "      <td>0.049978</td>\n",
       "      <td>0.000000</td>\n",
       "      <td>0</td>\n",
       "      <td>0.117847</td>\n",
       "      <td>...</td>\n",
       "      <td>1.504220</td>\n",
       "      <td>0.622686</td>\n",
       "      <td>0.588427</td>\n",
       "      <td>0.524415</td>\n",
       "      <td>0.305426</td>\n",
       "      <td>0.386204</td>\n",
       "      <td>0.0</td>\n",
       "      <td>0.000000</td>\n",
       "      <td>0.668196</td>\n",
       "      <td>Banana_Ripe</td>\n",
       "    </tr>\n",
       "    <tr>\n",
       "      <th>2</th>\n",
       "      <td>2</td>\n",
       "      <td>0.0</td>\n",
       "      <td>0.000000</td>\n",
       "      <td>1.098595</td>\n",
       "      <td>0.571866</td>\n",
       "      <td>0.500355</td>\n",
       "      <td>0.000000</td>\n",
       "      <td>0.000000</td>\n",
       "      <td>0</td>\n",
       "      <td>0.493137</td>\n",
       "      <td>...</td>\n",
       "      <td>1.169341</td>\n",
       "      <td>0.913239</td>\n",
       "      <td>0.064404</td>\n",
       "      <td>0.531270</td>\n",
       "      <td>0.000000</td>\n",
       "      <td>0.471604</td>\n",
       "      <td>0.0</td>\n",
       "      <td>0.000000</td>\n",
       "      <td>0.658250</td>\n",
       "      <td>Mango_Raw</td>\n",
       "    </tr>\n",
       "    <tr>\n",
       "      <th>3</th>\n",
       "      <td>3</td>\n",
       "      <td>0.0</td>\n",
       "      <td>0.101666</td>\n",
       "      <td>1.159194</td>\n",
       "      <td>0.599216</td>\n",
       "      <td>0.893206</td>\n",
       "      <td>0.000000</td>\n",
       "      <td>0.200139</td>\n",
       "      <td>0</td>\n",
       "      <td>0.645675</td>\n",
       "      <td>...</td>\n",
       "      <td>0.560686</td>\n",
       "      <td>1.243676</td>\n",
       "      <td>0.432523</td>\n",
       "      <td>0.701881</td>\n",
       "      <td>0.000000</td>\n",
       "      <td>0.589985</td>\n",
       "      <td>0.0</td>\n",
       "      <td>0.000000</td>\n",
       "      <td>0.591165</td>\n",
       "      <td>Leeche_Raw</td>\n",
       "    </tr>\n",
       "    <tr>\n",
       "      <th>4</th>\n",
       "      <td>4</td>\n",
       "      <td>0.0</td>\n",
       "      <td>0.000000</td>\n",
       "      <td>1.178603</td>\n",
       "      <td>0.362568</td>\n",
       "      <td>0.577602</td>\n",
       "      <td>0.000000</td>\n",
       "      <td>0.000000</td>\n",
       "      <td>0</td>\n",
       "      <td>0.079862</td>\n",
       "      <td>...</td>\n",
       "      <td>1.206032</td>\n",
       "      <td>0.736831</td>\n",
       "      <td>0.345906</td>\n",
       "      <td>0.878515</td>\n",
       "      <td>0.119000</td>\n",
       "      <td>0.261441</td>\n",
       "      <td>0.0</td>\n",
       "      <td>0.000000</td>\n",
       "      <td>0.458905</td>\n",
       "      <td>Mango_Ripe</td>\n",
       "    </tr>\n",
       "  </tbody>\n",
       "</table>\n",
       "<p>5 rows × 4098 columns</p>\n",
       "</div>"
      ],
      "text/plain": [
       "   ID   n0        n1        n2        n3        n4        n5        n6  n7  \\\n",
       "0   0  0.0  0.000000  1.272801  0.290501  0.581446  0.000000  0.000000   0   \n",
       "1   1  0.0  0.000000  1.542096  0.000000  0.896557  0.049978  0.000000   0   \n",
       "2   2  0.0  0.000000  1.098595  0.571866  0.500355  0.000000  0.000000   0   \n",
       "3   3  0.0  0.101666  1.159194  0.599216  0.893206  0.000000  0.200139   0   \n",
       "4   4  0.0  0.000000  1.178603  0.362568  0.577602  0.000000  0.000000   0   \n",
       "\n",
       "         n8  ...     n4087     n4088     n4089     n4090     n4091     n4092  \\\n",
       "0  0.000000  ...  1.645888  0.869640  0.302432  0.953719  0.022545  0.498048   \n",
       "1  0.117847  ...  1.504220  0.622686  0.588427  0.524415  0.305426  0.386204   \n",
       "2  0.493137  ...  1.169341  0.913239  0.064404  0.531270  0.000000  0.471604   \n",
       "3  0.645675  ...  0.560686  1.243676  0.432523  0.701881  0.000000  0.589985   \n",
       "4  0.079862  ...  1.206032  0.736831  0.345906  0.878515  0.119000  0.261441   \n",
       "\n",
       "   n4093     n4094     n4095     category  \n",
       "0    0.0  0.034988  0.692382  Orange_Ripe  \n",
       "1    0.0  0.000000  0.668196  Banana_Ripe  \n",
       "2    0.0  0.000000  0.658250    Mango_Raw  \n",
       "3    0.0  0.000000  0.591165   Leeche_Raw  \n",
       "4    0.0  0.000000  0.458905   Mango_Ripe  \n",
       "\n",
       "[5 rows x 4098 columns]"
      ]
     },
     "execution_count": 12,
     "metadata": {},
     "output_type": "execute_result"
    }
   ],
   "source": [
    "data = pd.read_csv(\"train.csv\")\n",
    "data.head()"
   ]
  },
  {
   "cell_type": "code",
   "execution_count": 13,
   "metadata": {},
   "outputs": [],
   "source": [
    "x = data.iloc[:, 1:-1].values\n",
    "xFeatures = np.array(x, dtype=float)\n",
    "xLabels = data.iloc[:, -1].values"
   ]
  },
  {
   "cell_type": "code",
   "execution_count": 14,
   "metadata": {},
   "outputs": [
    {
     "name": "stdout",
     "output_type": "stream",
     "text": [
      "{'Strawberry_Ripe', 'Papaya_Raw', 'Orange_Ripe', 'Papaya_Ripe', 'Mango_Raw', 'Pomengranate_Ripe', 'Banana_Ripe', 'Coconut_Raw', 'Leeche_Raw', 'Banana_Raw', 'Orange_Raw', 'Guava_Ripe', 'Coconut_Ripe', 'Pomengranate_Raw', 'Apple_Raw', 'Strawberry_Raw', 'Mango_Ripe', 'Guava_Raw', 'Apple_Ripe', 'Leeche_Ripe'}\n"
     ]
    }
   ],
   "source": [
    "print(set(xLabels))"
   ]
  },
  {
   "cell_type": "code",
   "execution_count": 15,
   "metadata": {},
   "outputs": [
    {
     "name": "stdout",
     "output_type": "stream",
     "text": [
      "60.8\n",
      "Number of classes: 20\n"
     ]
    },
    {
     "data": {
      "text/html": [
       "<div>\n",
       "<style scoped>\n",
       "    .dataframe tbody tr th:only-of-type {\n",
       "        vertical-align: middle;\n",
       "    }\n",
       "\n",
       "    .dataframe tbody tr th {\n",
       "        vertical-align: top;\n",
       "    }\n",
       "\n",
       "    .dataframe thead th {\n",
       "        text-align: right;\n",
       "    }\n",
       "</style>\n",
       "<table border=\"1\" class=\"dataframe\">\n",
       "  <thead>\n",
       "    <tr style=\"text-align: right;\">\n",
       "      <th></th>\n",
       "      <th>0</th>\n",
       "    </tr>\n",
       "  </thead>\n",
       "  <tbody>\n",
       "    <tr>\n",
       "      <th>0</th>\n",
       "      <td>2.0</td>\n",
       "    </tr>\n",
       "    <tr>\n",
       "      <th>1</th>\n",
       "      <td>6.0</td>\n",
       "    </tr>\n",
       "    <tr>\n",
       "      <th>2</th>\n",
       "      <td>4.0</td>\n",
       "    </tr>\n",
       "    <tr>\n",
       "      <th>3</th>\n",
       "      <td>8.0</td>\n",
       "    </tr>\n",
       "    <tr>\n",
       "      <th>4</th>\n",
       "      <td>16.0</td>\n",
       "    </tr>\n",
       "  </tbody>\n",
       "</table>\n",
       "</div>"
      ],
      "text/plain": [
       "      0\n",
       "0   2.0\n",
       "1   6.0\n",
       "2   4.0\n",
       "3   8.0\n",
       "4  16.0"
      ]
     },
     "execution_count": 15,
     "metadata": {},
     "output_type": "execute_result"
    }
   ],
   "source": [
    "label = 0\n",
    "labels = {}\n",
    "inverse_labels = {}\n",
    "dictf = {}\n",
    "for i in set(xLabels):\n",
    "    labels[i] = label\n",
    "\n",
    "    inverse_labels[label] = i\n",
    "    label += 1\n",
    "\n",
    "for i in range(len(xLabels)):\n",
    "    if xLabels[i] not in dictf:\n",
    "        dictf[xLabels[i]] = 1\n",
    "    else:\n",
    "        dictf[xLabels[i]] += 1\n",
    "\n",
    "    xLabels[i] = labels[xLabels[i]]\n",
    "\n",
    "xLabels = np.array(xLabels, dtype=float)\n",
    "a = dictf.values()\n",
    "b =[i for i in a]\n",
    "# print(b )\n",
    "print(np.mean(np.array(b, dtype = \"float\")))\n",
    "print(f\"Number of classes: {label}\")\n",
    "pd.DataFrame(xLabels).head()"
   ]
  },
  {
   "cell_type": "code",
<<<<<<< Updated upstream
   "execution_count": 16,
=======
   "execution_count": 131,
>>>>>>> Stashed changes
   "metadata": {},
   "outputs": [],
   "source": [
    "scaler = StandardScaler()\n",
    "pca = PCA(n_components=1216)\n",
    "x_processed = pca.fit_transform(scaler.fit_transform(xFeatures))"
   ]
  },
  {
   "attachments": {},
   "cell_type": "markdown",
   "metadata": {},
   "source": [
    "Outlier Detection"
   ]
  },
  {
   "cell_type": "code",
<<<<<<< Updated upstream
   "execution_count": 17,
=======
   "execution_count": 132,
>>>>>>> Stashed changes
   "metadata": {},
   "outputs": [],
   "source": [
    "isolation_forest = IsolationForest(n_estimators= 100, contamination= \"auto\")\n",
    "isolation_forest.fit(x_processed)\n",
    "x_transformed = x_processed[np.where(isolation_forest.predict(x_processed) != -1)[0]]\n",
    "newLabels = xLabels[np.where(isolation_forest.predict(x_processed) != -1)[0]]"
   ]
  },
  {
   "cell_type": "code",
<<<<<<< Updated upstream
   "execution_count": 18,
   "metadata": {},
   "outputs": [],
   "source": [
    "clusterer = hdbscan.HDBSCAN(min_cluster_size=21, min_samples= 1)\n",
    "cluster_labels = clusterer.fit_predict(x_transformed)\n",
    "\n",
    "x_clustered = np.concatenate((x_transformed, cluster_labels.reshape(-1, 1)), axis=1)"
=======
   "execution_count": 133,
   "metadata": {},
   "outputs": [],
   "source": [
    "# clusterer = hdbscan.HDBSCAN(min_cluster_size=21, min_samples= 1)\n",
    "# cluster_labels = clusterer.fit_predict(x_transformed)\n",
    "# x_clustered = np.concatenate((x_transformed, cluster_labels.reshape(-1, 1)), axis=1)"
>>>>>>> Stashed changes
   ]
  },
  {
   "cell_type": "code",
<<<<<<< Updated upstream
   "execution_count": 19,
=======
   "execution_count": 134,
   "metadata": {},
   "outputs": [],
   "source": [
    "# print(pd.DataFrame(x_clustered).head())\n",
    "# print(set(cluster_labels))\n"
   ]
  },
  {
   "cell_type": "code",
   "execution_count": 138,
>>>>>>> Stashed changes
   "metadata": {},
   "outputs": [
    {
     "data": {
      "text/plain": [
       "0.31743574175268163"
      ]
     },
     "execution_count": 138,
     "metadata": {},
     "output_type": "execute_result"
    }
   ],
   "source": [
<<<<<<< Updated upstream
    "# print(pd.DataFrame(x_clustered).head())\n",
    "print(set(cluster_labels))"
   ]
  },
  {
   "cell_type": "code",
   "execution_count": 20,
   "metadata": {},
   "outputs": [],
   "source": [
    "gbm = GradientBoostingClassifier(n_estimators=100, learning_rate=0.3, max_depth=30, random_state=42)\n",
    "gbm.fit(x_clustered, xLabels)"
=======
    "# neigh = KNeighborsClassifier(n_neighbors=6)\n",
    "# gnb = GaussianNB()\n",
    "from sklearn.tree import DecisionTreeClassifier\n",
    "from sklearn.ensemble import RandomForestClassifier\n",
    "\n",
    "dtc = RandomForestClassifier(n_estimators = 30)\n",
    "np.mean(cross_val_score(dtc, x_transformed, newLabels, cv=5))\n"
>>>>>>> Stashed changes
   ]
  }
 ],
 "metadata": {
  "kernelspec": {
   "display_name": "Python 3",
   "language": "python",
   "name": "python3"
  },
  "language_info": {
   "codemirror_mode": {
    "name": "ipython",
    "version": 3
   },
   "file_extension": ".py",
   "mimetype": "text/x-python",
   "name": "python",
   "nbconvert_exporter": "python",
   "pygments_lexer": "ipython3",
   "version": "3.10.3"
  },
  "orig_nbformat": 4
 },
 "nbformat": 4,
 "nbformat_minor": 2
}
