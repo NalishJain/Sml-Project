{
 "cells": [
  {
   "cell_type": "code",
   "execution_count": 21,
   "metadata": {},
   "outputs": [],
   "source": [
    "import numpy as np\n",
    "import pandas as pd\n",
    "import matplotlib.pyplot as plt\n",
    "import tensorflow as tf\n",
    "from sklearn.model_selection import train_test_split\n",
    "from sklearn.decomposition import PCA\n",
    "from sklearn.discriminant_analysis import LinearDiscriminantAnalysis\n",
    "from sklearn.model_selection import KFold\n",
    "from keras.utils import to_categorical\n",
    "import hdbscan\n",
    "from sklearn.cluster import DBSCAN\n",
    "from sklearn.cluster import KMeans\n",
    "from skopt import gp_minimize\n",
    "from skopt.space import Real, Integer"
   ]
  },
  {
   "cell_type": "code",
   "execution_count": 22,
   "metadata": {},
   "outputs": [
    {
     "name": "stdout",
     "output_type": "stream",
     "text": [
      "2.10.1\n"
     ]
    }
   ],
   "source": [
    "print(tf.__version__)"
   ]
  },
  {
   "cell_type": "code",
   "execution_count": 23,
   "metadata": {},
   "outputs": [],
   "source": [
    "#loading the training data\n",
    "data = pd.read_csv(\"train.csv\")\n",
    "x = data.iloc[:, 1:-1].values\n",
    "y = data.iloc[:, -1].values\n",
    "\n",
    "x = np.array(x, dtype='float')\n",
    "y = np.array(y)\n",
    "\n",
    "num_classes = len(set(y))"
   ]
  },
  {
   "cell_type": "code",
   "execution_count": 24,
   "metadata": {},
   "outputs": [],
   "source": [
    "#converting strings to numeric labels\n",
    "label = 0\n",
    "labels = {}\n",
    "inverse_labels = {}\n",
    "for i in set(y):\n",
    "    labels[i] = label\n",
    "    inverse_labels[label] = i\n",
    "    label += 1\n",
    "\n",
    "for i in range(len(y)):\n",
    "    y[i] = labels[y[i]]\n",
    "\n",
    "y = np.array(y, dtype='float')"
   ]
  },
  {
   "cell_type": "code",
   "execution_count": 25,
   "metadata": {},
   "outputs": [],
   "source": [
    "#loading the testing data\n",
    "x_test = pd.read_csv(\"test.csv\").iloc[:, 1:].values\n",
    "\n",
    "x_test = np.array(x_test, dtype='float')"
   ]
  },
  {
   "cell_type": "code",
   "execution_count": 26,
   "metadata": {},
   "outputs": [],
   "source": [
    "#standardizing the data\n",
    "# x = (x - np.mean(x, axis=0))/np.std(x)\n",
    "# x_test = (x_test - np.mean(x_test, axis=0))/np.std(x_test)"
   ]
  },
  {
   "cell_type": "code",
   "execution_count": 27,
   "metadata": {},
   "outputs": [],
   "source": [
    "#clearing previous tensorflow session\n",
    "tf.keras.backend.clear_session()"
   ]
  },
  {
   "cell_type": "code",
   "execution_count": 28,
   "metadata": {},
   "outputs": [],
   "source": [
    "search_space = [\n",
    "    Integer(128, 1024, name='layer1_neurons'),\n",
    "    Integer(64, 512, name='layer2_neurons'),\n",
    "    Integer(32, 256, name='layer3_neurons'),\n",
    "    Real(0, 0.9, name='dropout_value'),\n",
    "    Integer(20, 1000, name='pca_n_components'),\n",
    "    Integer(1, 19, name='lda_n_components'),\n",
    "    Integer(1, 60, name='hdbscan_min_samples'),\n",
    "    Integer(5, 80, name='hdbscan_min_cluster_size'),\n",
    "    Integer(10, 1000, name='nn_epochs'),\n",
    "    Integer(1, 64, name='nn_batch_size')\n",
    "]\n",
    "\n",
    "parameter_names = [\n",
    "    'layer1_neurons', \n",
    "    'layer2_neurons', \n",
    "    'layer3_neurons', \n",
    "    'dropout_value', \n",
    "    'pca_n_components', \n",
    "    'lda_n_components', \n",
    "    'hdbscan_min_samples', \n",
    "    'hdbscan_min_cluster_size', \n",
    "    'nn_epochs', \n",
    "    'nn_batch_size'\n",
    "]"
   ]
  },
  {
   "cell_type": "code",
   "execution_count": 29,
   "metadata": {},
   "outputs": [],
   "source": [
    "def objective(params):\n",
    "    layer1_neurons, layer2_neurons, layer3_neurons, dropout_value, pca_n_components, lda_n_components, hdbscan_min_samples, hdbscan_min_cluster_size, nn_epochs, nn_batch_size = params[0], params[1], params[2], params[3], params[4], params[5], params[6], params[7], params[8], params[9]\n",
    "    #clearing previous tensorflow session\n",
    "    tf.keras.backend.clear_session()\n",
    "    \n",
    "    #configuring the model\n",
    "    model = tf.keras.models.Sequential(\n",
    "        [\n",
    "        tf.keras.layers.Flatten(input_shape=(lda_n_components+1,)),\n",
    "        tf.keras.layers.Dense(layer1_neurons, activation=tf.nn.relu),\n",
    "        tf.keras.layers.Dropout(dropout_value),\n",
    "        tf.keras.layers.Dense(layer2_neurons, activation=tf.nn.relu),\n",
    "        tf.keras.layers.Dropout(dropout_value),\n",
    "        tf.keras.layers.Dense(layer3_neurons, activation=tf.nn.relu),\n",
    "        tf.keras.layers.Dropout(dropout_value),\n",
    "        tf.keras.layers.Dense(num_classes, activation=tf.nn.softmax),\n",
    "        ]\n",
    "    )\n",
    "\n",
    "    #compiling the model\n",
    "    model.compile(loss='sparse_categorical_crossentropy', optimizer='adam', metrics=['accuracy'])\n",
    "    \n",
    "    #performing kfold cross validation\n",
    "    num_folds = 5\n",
    "    kfold = KFold(n_splits=num_folds, shuffle=True)\n",
    "\n",
    "    cv_scores = []\n",
    "\n",
    "    for train_idx, test_idx in kfold.split(x):\n",
    "        x_train, y_train = x[train_idx], y[train_idx]\n",
    "        x_val, y_val = x[test_idx], y[test_idx]\n",
    "\n",
    "        #performing dimensionality reduction\n",
    "        pca = PCA(n_components=pca_n_components)\n",
    "        p = pca.fit(x_train)\n",
    "\n",
    "        x_train = p.transform(x_train)\n",
    "        x_val = p.transform(x_val)\n",
    "\n",
    "        #performing lda\n",
    "        lda = LinearDiscriminantAnalysis(n_components=lda_n_components)\n",
    "        l = lda.fit(x_train, y_train)\n",
    "\n",
    "        x_train = l.transform(x_train)\n",
    "        x_val = l.transform(x_val)\n",
    "\n",
    "        #clustering\n",
    "        clusterer = hdbscan.HDBSCAN(min_samples=hdbscan_min_samples, min_cluster_size=hdbscan_min_cluster_size)\n",
    "        train_labels = clusterer.fit_predict(x_train)\n",
    "        num_labels = len(set(train_labels))\n",
    "\n",
    "        test_labels = []\n",
    "        \n",
    "        cluster_centroids = []\n",
    "        for i in list(set(train_labels)):\n",
    "            cluster_centroids.append(np.mean(x_train[train_labels == i], axis=0))\n",
    "        cluster_centroids = np.array(cluster_centroids, dtype='float')\n",
    "        \n",
    "        for i in range(len(x_val)):\n",
    "            test_labels.append(np.argmin(np.sum((x_val[i]-cluster_centroids)**2, axis=1)))\n",
    "        test_labels = np.array(test_labels)\n",
    "        test_labels[test_labels == num_labels-1] = -1\n",
    "\n",
    "        x_train = np.concatenate((x_train, train_labels.reshape(-1, 1)), axis=1)\n",
    "        x_val = np.concatenate((x_val, test_labels.reshape(-1, 1)), axis=1)\n",
    "\n",
    "        #fitting the model to the training data for this fold\n",
    "        model.fit(x_train, y_train, epochs=nn_epochs, batch_size=nn_batch_size, verbose=0)\n",
    "\n",
    "        _, accuracy = model.evaluate(x_val, y_val, verbose=0)\n",
    "        cv_scores.append(accuracy)\n",
    "\n",
    "    # print('Cross-validation accuracy scores:', cv_scores)\n",
    "    # print('Mean cross-validation accuracy:', np.mean(cv_scores))\n",
    "    # print('Standard deviation of cross-validation accuracy:', np.std(cv_scores))\n",
    "    return (-np.mean(cv_scores))"
   ]
  },
  {
   "cell_type": "code",
   "execution_count": 30,
   "metadata": {},
   "outputs": [
    {
     "name": "stdout",
     "output_type": "stream",
     "text": [
      "Iteration No: 1 started. Evaluating function at random point.\n"
     ]
    }
   ],
   "source": [
    "result = gp_minimize(objective, search_space, n_calls=100, random_state=42, verbose=10)"
   ]
  },
  {
   "cell_type": "code",
   "execution_count": null,
   "metadata": {},
   "outputs": [],
   "source": [
    "print(\"Best score: \", -result.fun)"
   ]
  },
  {
   "cell_type": "code",
   "execution_count": null,
   "metadata": {},
   "outputs": [],
   "source": [
    "print(\"Best hyper-parameters: \", dict(zip(parameter_names, result.x)))"
   ]
  },
  {
   "cell_type": "code",
   "execution_count": null,
   "metadata": {},
   "outputs": [],
   "source": [
    "# model.fit(x, y, epochs=50, batch_size=4)"
   ]
  },
  {
   "cell_type": "code",
   "execution_count": null,
   "metadata": {},
   "outputs": [],
   "source": [
    "# predicted_probabilities = model.predict(x_test)"
   ]
  },
  {
   "cell_type": "code",
   "execution_count": null,
   "metadata": {},
   "outputs": [],
   "source": [
    "# y_pred = np.argmax(predicted_probabilities, axis=1)\n",
    "\n",
    "# predicted_categories = []\n",
    "\n",
    "# for i in range(len(y_pred)):\n",
    "#     predicted_categories.append(inverse_labels[y_pred[i]])\n",
    "\n",
    "# ids = range(415)\n",
    "\n",
    "# previous_submission = pd.read_csv(\"submission.csv\")\n",
    "# previous_submission.to_csv('prev.csv', index=False)\n",
    "# results = pd.DataFrame({'ID': ids, 'Category': predicted_categories})\n",
    "# results.to_csv('submission.csv', index=False)"
   ]
  }
 ],
 "metadata": {
  "kernelspec": {
   "display_name": "Python 3",
   "language": "python",
   "name": "python3"
  },
  "language_info": {
   "codemirror_mode": {
    "name": "ipython",
    "version": 3
   },
   "file_extension": ".py",
   "mimetype": "text/x-python",
   "name": "python",
   "nbconvert_exporter": "python",
   "pygments_lexer": "ipython3",
   "version": "3.10.10"
  },
  "orig_nbformat": 4
 },
 "nbformat": 4,
 "nbformat_minor": 2
}
