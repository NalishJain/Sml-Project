{
 "cells": [
  {
   "cell_type": "code",
   "execution_count": 319,
   "metadata": {},
   "outputs": [],
   "source": [
    "import numpy as np\n",
    "import pandas as pd\n",
    "import matplotlib.pyplot as plt\n",
    "import tensorflow as tf\n",
    "from sklearn.model_selection import train_test_split\n",
    "from sklearn.decomposition import PCA\n",
    "from sklearn.discriminant_analysis import LinearDiscriminantAnalysis\n",
    "from sklearn.model_selection import KFold\n",
    "from keras.utils import to_categorical"
   ]
  },
  {
   "cell_type": "code",
   "execution_count": 320,
   "metadata": {},
   "outputs": [
    {
     "name": "stdout",
     "output_type": "stream",
     "text": [
      "2.10.1\n"
     ]
    }
   ],
   "source": [
    "print(tf.__version__)"
   ]
  },
  {
   "cell_type": "code",
   "execution_count": 321,
   "metadata": {},
   "outputs": [],
   "source": [
    "#loading the training data\n",
    "data = pd.read_csv(\"train.csv\")\n",
    "x = data.iloc[:, 1:-1].values\n",
    "y = data.iloc[:, -1].values\n",
    "\n",
    "x = np.array(x, dtype='float')\n",
    "y = np.array(y)\n",
    "\n",
    "num_classes = len(set(y))"
   ]
  },
  {
   "cell_type": "code",
   "execution_count": 322,
   "metadata": {},
   "outputs": [],
   "source": [
    "#converting strings to numeric labels\n",
    "label = 0\n",
    "labels = {}\n",
    "inverse_labels = {}\n",
    "for i in set(y):\n",
    "    labels[i] = label\n",
    "    inverse_labels[label] = i\n",
    "    label += 1\n",
    "\n",
    "for i in range(len(y)):\n",
    "    y[i] = labels[y[i]]\n",
    "\n",
    "y = np.array(y, dtype='float')"
   ]
  },
  {
   "cell_type": "code",
   "execution_count": 323,
   "metadata": {},
   "outputs": [],
   "source": [
    "#loading the testing data\n",
    "x_test = pd.read_csv(\"test.csv\").iloc[:, 1:].values\n",
    "\n",
    "x_test = np.array(x_test, dtype='float')"
   ]
  },
  {
   "cell_type": "code",
   "execution_count": 324,
   "metadata": {},
   "outputs": [],
   "source": [
    "#standardizing the data\n",
    "x = (x - np.mean(x, axis=0))/np.std(x)\n",
    "x_test = (x_test - np.mean(x_test, axis=0))/np.std(x_test)"
   ]
  },
  {
   "cell_type": "code",
   "execution_count": 325,
   "metadata": {},
   "outputs": [],
   "source": [
    "#performing dimensionality reduction\n",
    "pca = PCA(n_components=200)\n",
    "p = pca.fit(x)\n",
    "\n",
    "x = p.transform(x)\n",
    "x_test = p.transform(x_test)"
   ]
  },
  {
   "cell_type": "code",
   "execution_count": 326,
   "metadata": {},
   "outputs": [],
   "source": [
    "#performing lda\n",
    "lda = LinearDiscriminantAnalysis(n_components=19)\n",
    "l = lda.fit(x, y)\n",
    "\n",
    "x = l.transform(x)\n",
    "x_test = l.transform(x_test)"
   ]
  },
  {
   "cell_type": "code",
   "execution_count": 327,
   "metadata": {},
   "outputs": [],
   "source": [
    "#clearing previous tensorflow session\n",
    "tf.keras.backend.clear_session()"
   ]
  },
  {
   "cell_type": "code",
   "execution_count": 328,
   "metadata": {},
   "outputs": [],
   "source": [
    "#configuring the model\n",
    "model = tf.keras.models.Sequential(\n",
    "    [\n",
    "    tf.keras.layers.Flatten(input_shape=(x.shape[1],)),\n",
    "    tf.keras.layers.Dense(512, activation=tf.nn.relu),\n",
    "    tf.keras.layers.Dropout(0.2),\n",
    "    tf.keras.layers.Dense(256, activation=tf.nn.relu),\n",
    "    tf.keras.layers.Dropout(0.2),\n",
    "    tf.keras.layers.Dense(128, activation=tf.nn.relu),\n",
    "    tf.keras.layers.Dropout(0.2),\n",
    "    tf.keras.layers.Dense(num_classes, activation=tf.nn.softmax),\n",
    "    ]\n",
    ")"
   ]
  },
  {
   "cell_type": "code",
   "execution_count": 329,
   "metadata": {},
   "outputs": [],
   "source": [
    "model.compile(loss='sparse_categorical_crossentropy', optimizer='adam', metrics=['accuracy'])"
   ]
  },
  {
   "cell_type": "code",
   "execution_count": 330,
   "metadata": {},
   "outputs": [
    {
     "name": "stdout",
     "output_type": "stream",
     "text": [
      "Cross-validation accuracy scores: [0.9221311211585999, 0.9465020298957825, 0.9629629850387573, 0.9876543283462524, 0.9958847761154175]\n",
      "Mean cross-validation accuracy: 0.963027048110962\n",
      "Standard deviation of cross-validation accuracy: 0.02695066008017051\n"
     ]
    }
   ],
   "source": [
    "num_folds = 5\n",
    "kfold = KFold(n_splits=num_folds, shuffle=True)\n",
    "\n",
    "cv_scores = []\n",
    "\n",
    "\n",
    "for train_idx, test_idx in kfold.split(x):\n",
    "    x_train, y_train = x[train_idx], y[train_idx]\n",
    "    x_val, y_val = x[test_idx], y[test_idx]\n",
    "\n",
    "    # Fit the model to the training data for this fold\n",
    "    model.fit(x_train, y_train, epochs=10, batch_size=32, verbose=0)\n",
    "\n",
    "    _, accuracy = model.evaluate(x_val, y_val, verbose=0)\n",
    "    cv_scores.append(accuracy)\n",
    "\n",
    "print('Cross-validation accuracy scores:', cv_scores)\n",
    "print('Mean cross-validation accuracy:', np.mean(cv_scores))\n",
    "print('Standard deviation of cross-validation accuracy:', np.std(cv_scores))"
   ]
  },
  {
   "cell_type": "code",
   "execution_count": 331,
   "metadata": {},
   "outputs": [],
   "source": [
    "# model.fit(x, y, epochs=50, batch_size=4)"
   ]
  },
  {
   "cell_type": "code",
   "execution_count": 332,
   "metadata": {},
   "outputs": [],
   "source": [
    "# predicted_probabilities = model.predict(x_test)"
   ]
  },
  {
   "cell_type": "code",
   "execution_count": 333,
   "metadata": {},
   "outputs": [],
   "source": [
    "# y_pred = np.argmax(predicted_probabilities, axis=1)\n",
    "\n",
    "# predicted_categories = []\n",
    "\n",
    "# for i in range(len(y_pred)):\n",
    "#     predicted_categories.append(inverse_labels[y_pred[i]])\n",
    "\n",
    "# ids = range(415)\n",
    "\n",
    "# previous_submission = pd.read_csv(\"submission.csv\")\n",
    "# previous_submission.to_csv('prev.csv', index=False)\n",
    "# results = pd.DataFrame({'ID': ids, 'Category': predicted_categories})\n",
    "# results.to_csv('submission.csv', index=False)"
   ]
  }
 ],
 "metadata": {
  "kernelspec": {
   "display_name": "Python 3",
   "language": "python",
   "name": "python3"
  },
  "language_info": {
   "codemirror_mode": {
    "name": "ipython",
    "version": 3
   },
   "file_extension": ".py",
   "mimetype": "text/x-python",
   "name": "python",
   "nbconvert_exporter": "python",
   "pygments_lexer": "ipython3",
   "version": "3.10.10"
  },
  "orig_nbformat": 4
 },
 "nbformat": 4,
 "nbformat_minor": 2
}
