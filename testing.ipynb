{
 "cells": [
  {
   "cell_type": "code",
   "execution_count": 14,
   "metadata": {},
   "outputs": [],
   "source": [
    "import pandas as pd\n",
    "import numpy as np\n",
    "from sklearn.datasets import load_breast_cancer\n",
    "from sklearn.preprocessing import StandardScaler, RobustScaler\n",
    "from sklearn.decomposition import PCA\n",
    "from sklearn.ensemble import RandomForestClassifier, IsolationForest\n",
    "from sklearn.model_selection import cross_val_score\n",
    "from skopt import gp_minimize\n",
    "from skopt.space import Real, Integer\n",
    "from skopt.utils import use_named_args\n",
    "import hdbscan\n",
    "from sklearn.neighbors import KNeighborsClassifier\n",
    "from sklearn.model_selection import train_test_split\n",
    "from sklearn.metrics import accuracy_score\n",
    "from sklearn.discriminant_analysis import LinearDiscriminantAnalysis as LDA\n",
    "from sklearn.metrics import accuracy_score\n",
    "from sklearn.model_selection import KFold\n",
    "from sklearn.decomposition import KernelPCA\n",
    "from sklearn.manifold import MDS\n",
    "from sklearn.linear_model import LogisticRegression as LR\n",
    "from sklearn import metrics\n",
    "from sklearn.cluster import KMeans\n"
   ]
  },
  {
   "cell_type": "code",
   "execution_count": 5,
   "metadata": {},
   "outputs": [],
   "source": [
    "data = pd.read_csv(\"train.csv\")\n",
    "x = data.iloc[:, 1:-1].values\n",
    "y = data.iloc[:, -1].values\n",
    "\n",
    "x = np.array(x, dtype='float')\n",
    "y = np.array(y)"
   ]
  },
  {
   "cell_type": "code",
   "execution_count": 17,
   "metadata": {},
   "outputs": [],
   "source": [
    "def objective(params):\n",
    "    max_depth, max_features, min_samples_split, hdbscan_min_samples, hdbscan_min_cluster_size = params[0], params[1], params[2], params[3], params[4]\n",
    " \n",
    "    \n",
    "    #performing kfold cross validation\n",
    "    num_folds = 5\n",
    "    kfold = KFold(n_splits=num_folds, shuffle=True)\n",
    "\n",
    "    cv_scores = []\n",
    "    model = RandomForestClassifier(n_estimators= 1500, criterion = \"entropy\",max_depth=max_depth, max_features = max_features, min_samples_split = min_samples_split)\n",
    "\n",
    "    for train_idx, test_idx in kfold.split(x):\n",
    "        x_train, y_train = x[train_idx], y[train_idx]\n",
    "        x_val, y_val = x[test_idx], y[test_idx]\n",
    "\n",
    "        #performing dimensionality reduction\n",
    "        pca = PCA(n_components=900)\n",
    "        # pca = KernelPCA(n_components=300, kernel='rbf', gamma=15, random_state=42)\n",
    "\n",
    "        p = pca.fit(x_train)\n",
    "\n",
    "        x_train = p.transform(x_train)\n",
    "        x_val = p.transform(x_val)\n",
    "        pca = PCA(n_components= 250)\n",
    "        p = pca.fit(x_train)\n",
    "\n",
    "        x_train = p.transform(x_train)\n",
    "        x_val = p.transform(x_val)\n",
    "        #performing lda\n",
    "        lda = LDA(n_components=19)\n",
    "        l = lda.fit(x_train, y_train)\n",
    "\n",
    "        x_train = l.transform(x_train)\n",
    "        x_val = l.transform(x_val)\n",
    "\n",
    "        #clustering\n",
    "        clusterer = hdbscan.HDBSCAN(min_samples=hdbscan_min_samples, min_cluster_size=hdbscan_min_cluster_size)\n",
    "        train_labels = clusterer.fit_predict(x_train)\n",
    "        num_labels = len(set(train_labels))\n",
    "\n",
    "        test_labels = []\n",
    "        \n",
    "        cluster_centroids = []\n",
    "        for i in list(set(train_labels)):\n",
    "            cluster_centroids.append(np.mean(x_train[train_labels == i], axis=0))\n",
    "        cluster_centroids = np.array(cluster_centroids, dtype='float')\n",
    "        \n",
    "        for i in range(len(x_val)):\n",
    "            test_labels.append(np.argmin(np.sum((x_val[i]-cluster_centroids)**2, axis=1)))\n",
    "        test_labels = np.array(test_labels)\n",
    "        test_labels[test_labels == num_labels-1] = -1\n",
    "\n",
    "        x_train = np.concatenate((x_train, train_labels.reshape(-1, 1)), axis=1)\n",
    "        x_val = np.concatenate((x_val, test_labels.reshape(-1, 1)), axis=1)\n",
    "\n",
    "        #fitting the model to the training data for this fold\n",
    "        model.fit(x_train, y_train)\n",
    "        y_pred = model.predict(x_val)\n",
    "        a = accuracy_score(y_val, y_pred)\n",
    "        cv_scores.append(a)\n",
    "        print(a)\n",
    "    # print(max_depth, max_features, min_samples_split, hdbscan_min_samples, hdbscan_min_cluster_size)\n",
    "    print('Cross-validation accuracy scores:', cv_scores)\n",
    "    print('Mean cross-validation accuracy:', np.mean(cv_scores))\n",
    "    print('Standard deviation of cross-validation accuracy:', np.std(cv_scores))\n",
    "    return (-np.mean(cv_scores))"
   ]
  },
  {
   "cell_type": "code",
   "execution_count": 18,
   "metadata": {},
   "outputs": [
    {
     "name": "stderr",
     "output_type": "stream",
     "text": [
      "C:\\Users\\hp\\AppData\\Local\\Packages\\PythonSoftwareFoundation.Python.3.10_qbz5n2kfra8p0\\LocalCache\\local-packages\\Python310\\site-packages\\sklearn\\cluster\\_kmeans.py:870: FutureWarning: The default value of `n_init` will change from 10 to 'auto' in 1.4. Set the value of `n_init` explicitly to suppress the warning\n",
      "  warnings.warn(\n"
     ]
    },
    {
     "name": "stdout",
     "output_type": "stream",
     "text": [
      "0.7786885245901639\n"
     ]
    },
    {
     "name": "stderr",
     "output_type": "stream",
     "text": [
      "C:\\Users\\hp\\AppData\\Local\\Packages\\PythonSoftwareFoundation.Python.3.10_qbz5n2kfra8p0\\LocalCache\\local-packages\\Python310\\site-packages\\sklearn\\cluster\\_kmeans.py:870: FutureWarning: The default value of `n_init` will change from 10 to 'auto' in 1.4. Set the value of `n_init` explicitly to suppress the warning\n",
      "  warnings.warn(\n"
     ]
    },
    {
     "name": "stdout",
     "output_type": "stream",
     "text": [
      "0.7695473251028807\n"
     ]
    },
    {
     "name": "stderr",
     "output_type": "stream",
     "text": [
      "C:\\Users\\hp\\AppData\\Local\\Packages\\PythonSoftwareFoundation.Python.3.10_qbz5n2kfra8p0\\LocalCache\\local-packages\\Python310\\site-packages\\sklearn\\cluster\\_kmeans.py:870: FutureWarning: The default value of `n_init` will change from 10 to 'auto' in 1.4. Set the value of `n_init` explicitly to suppress the warning\n",
      "  warnings.warn(\n"
     ]
    },
    {
     "name": "stdout",
     "output_type": "stream",
     "text": [
      "0.7736625514403292\n"
     ]
    },
    {
     "name": "stderr",
     "output_type": "stream",
     "text": [
      "C:\\Users\\hp\\AppData\\Local\\Packages\\PythonSoftwareFoundation.Python.3.10_qbz5n2kfra8p0\\LocalCache\\local-packages\\Python310\\site-packages\\sklearn\\cluster\\_kmeans.py:870: FutureWarning: The default value of `n_init` will change from 10 to 'auto' in 1.4. Set the value of `n_init` explicitly to suppress the warning\n",
      "  warnings.warn(\n"
     ]
    },
    {
     "name": "stdout",
     "output_type": "stream",
     "text": [
      "0.7983539094650206\n"
     ]
    },
    {
     "name": "stderr",
     "output_type": "stream",
     "text": [
      "C:\\Users\\hp\\AppData\\Local\\Packages\\PythonSoftwareFoundation.Python.3.10_qbz5n2kfra8p0\\LocalCache\\local-packages\\Python310\\site-packages\\sklearn\\cluster\\_kmeans.py:870: FutureWarning: The default value of `n_init` will change from 10 to 'auto' in 1.4. Set the value of `n_init` explicitly to suppress the warning\n",
      "  warnings.warn(\n"
     ]
    },
    {
     "name": "stdout",
     "output_type": "stream",
     "text": [
      "0.7818930041152263\n",
      "Cross-validation accuracy scores: [0.7786885245901639, 0.7695473251028807, 0.7736625514403292, 0.7983539094650206, 0.7818930041152263]\n",
      "Mean cross-validation accuracy: 0.7804290629427241\n",
      "Standard deviation of cross-validation accuracy: 0.009906266871917863\n"
     ]
    },
    {
     "data": {
      "text/plain": [
       "-0.7804290629427241"
      ]
     },
     "execution_count": 18,
     "metadata": {},
     "output_type": "execute_result"
    }
   ],
   "source": [
    "objective()"
   ]
  }
 ],
 "metadata": {
  "kernelspec": {
   "display_name": "Python 3",
   "language": "python",
   "name": "python3"
  },
  "language_info": {
   "codemirror_mode": {
    "name": "ipython",
    "version": 3
   },
   "file_extension": ".py",
   "mimetype": "text/x-python",
   "name": "python",
   "nbconvert_exporter": "python",
   "pygments_lexer": "ipython3",
   "version": "3.10.10"
  },
  "orig_nbformat": 4
 },
 "nbformat": 4,
 "nbformat_minor": 2
}
