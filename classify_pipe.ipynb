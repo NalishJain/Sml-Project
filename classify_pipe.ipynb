{
 "cells": [
  {
   "cell_type": "code",
   "execution_count": null,
   "metadata": {},
   "outputs": [],
   "source": [
    "import pandas as pd\n",
    "import numpy as np\n",
    "from sklearn.cluster import DBSCAN\n",
    "from sklearn.discriminant_analysis import LinearDiscriminantAnalysis\n",
    "from sklearn.preprocessing import StandardScaler\n",
    "from sklearn.decomposition import PCA\n",
    "from sklearn.pipeline import Pipeline\n",
    "from sklearn.base import BaseEstimator, TransformerMixin\n",
    "from sklearn.model_selection import GridSearchCV\n",
    "from sklearn.neighbors import KNeighborsClassifier\n",
    "from sklearn.model_selection import train_test_split\n",
    "from sklearn.preprocessing import FunctionTransformer\n",
    "from sklearn.neighbors import LocalOutlierFactor\n",
    "import matplotlib.pyplot as plt"
   ]
  },
  {
   "cell_type": "code",
   "execution_count": null,
   "metadata": {},
   "outputs": [],
   "source": [
    "data = pd.read_csv(\"train.csv\")\n",
    "data.head()"
   ]
  },
  {
   "cell_type": "code",
   "execution_count": null,
   "metadata": {},
   "outputs": [],
   "source": [
    "x = data.iloc[:, 1:-1].values\n",
    "x = np.array(x, dtype=float)\n",
    "y = data.iloc[:, -1].values"
   ]
  },
  {
   "cell_type": "code",
   "execution_count": null,
   "metadata": {},
   "outputs": [],
   "source": [
    "print(set(y))"
   ]
  },
  {
   "cell_type": "code",
   "execution_count": null,
   "metadata": {},
   "outputs": [],
   "source": [
    "#converting strings to numeric labels\n",
    "label = 0\n",
    "labels = {}\n",
    "inverse_labels = {}\n",
    "for i in set(y):\n",
    "    labels[i] = label\n",
    "    inverse_labels[label] = i\n",
    "    label += 1\n",
    "\n",
    "for i in range(len(y)):\n",
    "    y[i] = labels[y[i]]\n",
    "\n",
    "y = np.array(y, dtype=float)\n",
    "\n",
    "print(f\"Number of classes: {label}\")\n",
    "pd.DataFrame(y).head()"
   ]
  },
  {
   "cell_type": "code",
   "execution_count": null,
   "metadata": {},
   "outputs": [],
   "source": [
    "class Clustering(BaseEstimator, TransformerMixin):\n",
    "    def __init__(self, eps, min_samples):\n",
    "        self.eps = eps\n",
    "        self.min_samples = min_samples\n",
    "\n",
    "    def fit(self, X, y=None):\n",
    "        return self\n",
    "    \n",
    "    def transform(self, X, y=None):\n",
    "        self.dbscan_ = DBSCAN(eps=self.eps, min_samples=self.min_samples)\n",
    "        labels = self.dbscan_.fit_predict(X)\n",
    "        \n",
    "        return np.concatenate((X, labels.reshape(-1, 1)), axis=1)"
   ]
  },
  {
   "cell_type": "code",
   "execution_count": null,
   "metadata": {},
   "outputs": [],
   "source": [
    "class OutlierRemoval(BaseEstimator, TransformerMixin):\n",
    "    def __init__(self, n_neighbors, contamination):\n",
    "        self.n_neighbors = n_neighbors\n",
    "        self.contamination = contamination\n",
    "\n",
    "    def fit(self, X, y=None):\n",
    "        return self\n",
    "    \n",
    "    def transform(self, X, y=None):\n",
    "        self.lof = LocalOutlierFactor(n_neighbors=self.n_neighbors, contamination=self.contamination)\n",
    "        self.lof.fit(X)\n",
    "        is_inlier = self.lof.predict(X) == 1\n",
    "\n",
    "        return X[is_inlier]"
   ]
  },
  {
   "cell_type": "code",
   "execution_count": null,
   "metadata": {},
   "outputs": [],
   "source": [
    "pipe = Pipeline(\n",
    "    [\n",
    "    ('scale', StandardScaler()),\n",
    "    ('pca', PCA()),\n",
    "    ('lda', LinearDiscriminantAnalysis()),\n",
    "    ('lof', OutlierRemoval(n_neighbors=5, contamination=0.1)),\n",
    "    ('dbscan', Clustering(eps=5, min_samples=5)),\n",
    "    ('knn', KNeighborsClassifier()),\n",
    "    ]\n",
    ")"
   ]
  },
  {
   "cell_type": "code",
   "execution_count": null,
   "metadata": {},
   "outputs": [],
   "source": [
    "parameter_grid = {\n",
    "    'pca__n_components': np.arange(15, 20),\n",
    "    'lda__n_components': np.arange(15, 20),\n",
    "    'dbscan__eps': np.arange(1, 20),\n",
    "    'dbscan__min_samples': np.arange(1, 10),\n",
    "    'lof__n_neighbors': np.arange(5, 100, 10),\n",
    "    'lof__contamination': [0.1, 0.2, 0.3],\n",
    "    'knn__n_neighbors': np.arange(5, 100, 10),\n",
    "    'knn__weights': ['uniform', 'distance'],\n",
    "}"
   ]
  },
  {
   "cell_type": "code",
   "execution_count": null,
   "metadata": {},
   "outputs": [],
   "source": [
    "grid = GridSearchCV(pipe, param_grid=parameter_grid, cv=5, scoring='accuracy', n_jobs=1, verbose=10)\n",
    "grid.fit(x, y)"
   ]
  },
  {
   "cell_type": "code",
   "execution_count": null,
   "metadata": {},
   "outputs": [],
   "source": [
    "print(f\"Best parameters: {grid.best_params_}\")\n",
    "print(\"Best score: {:.2f}\".format(grid.best_score_))"
   ]
  },
  {
   "cell_type": "code",
   "execution_count": null,
   "metadata": {},
   "outputs": [],
   "source": [
    "#generating the submission file\n",
    "x_test = pd.read_csv('test.csv')\n",
    "\n",
    "y_pred = grid.best_estimator_.predict(x_test)\n",
    "predicted_categories = []\n",
    "\n",
    "for i in range(len(y_pred)):\n",
    "    predicted_categories.append(inverse_labels[y_pred[i]])\n",
    "\n",
    "results = pd.DataFrame({'ID': x_test.values[:, 0], 'Category': predicted_categories})\n",
    "results.to_csv('submission.csv', index=False)"
   ]
  }
 ],
 "metadata": {
  "kernelspec": {
   "display_name": "Python 3",
   "language": "python",
   "name": "python3"
  },
  "language_info": {
   "codemirror_mode": {
    "name": "ipython",
    "version": 3
   },
   "file_extension": ".py",
   "mimetype": "text/x-python",
   "name": "python",
   "nbconvert_exporter": "python",
   "pygments_lexer": "ipython3",
   "version": "3.10.10"
  },
  "orig_nbformat": 4
 },
 "nbformat": 4,
 "nbformat_minor": 2
}
